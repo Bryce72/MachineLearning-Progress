{
 "cells": [
  {
   "cell_type": "markdown",
   "metadata": {},
   "source": [
    "Going into the understanding of practicing Lasso and Ridge Regression"
   ]
  },
  {
   "cell_type": "code",
   "execution_count": 4,
   "metadata": {},
   "outputs": [],
   "source": [
    "import pandas as pd\n",
    "import numpy as np\n",
    "import seaborn as sns\n",
    "import matplotlib.pyplot as plt\n",
    "from sklearn.model_selection import train_test_split\n",
    "from sklearn.linear_model import LinearRegression\n",
    "from sklearn.linear_model import Ridge, RidgeCV, Lasso\n",
    "from sklearn.preprocessing import StandardScaler\n",
    "from sklearn.preprocessing import StandardScaler"
   ]
  },
  {
   "cell_type": "code",
   "execution_count": 19,
   "metadata": {},
   "outputs": [
    {
     "name": "stdout",
     "output_type": "stream",
     "text": [
      "             CRIM          ZN       INDUS        CHAS  ...     PTRATIO           B       LSTAT       Price\n",
      "count  506.000000  506.000000  506.000000  506.000000  ...  506.000000  506.000000  506.000000  506.000000\n",
      "mean     3.613524   11.363636   11.136779    0.069170  ...   18.455534  356.674032   12.653063   22.532806\n",
      "std      8.601545   23.322453    6.860353    0.253994  ...    2.164946   91.294864    7.141062    9.197104\n",
      "min      0.006320    0.000000    0.460000    0.000000  ...   12.600000    0.320000    1.730000    5.000000\n",
      "25%      0.082045    0.000000    5.190000    0.000000  ...   17.400000  375.377500    6.950000   17.025000\n",
      "50%      0.256510    0.000000    9.690000    0.000000  ...   19.050000  391.440000   11.360000   21.200000\n",
      "75%      3.677083   12.500000   18.100000    0.000000  ...   20.200000  396.225000   16.955000   25.000000\n",
      "max     88.976200  100.000000   27.740000    1.000000  ...   22.000000  396.900000   37.970000   50.000000\n",
      "\n",
      "[8 rows x 14 columns]\n"
     ]
    },
    {
     "name": "stderr",
     "output_type": "stream",
     "text": [
      "<>:5: SyntaxWarning: invalid escape sequence '\\s'\n",
      "<>:5: SyntaxWarning: invalid escape sequence '\\s'\n",
      "C:\\Users\\Bryce\\AppData\\Local\\Temp\\ipykernel_17976\\665078147.py:5: SyntaxWarning: invalid escape sequence '\\s'\n",
      "  raw_df = pd.read_csv(data_url, sep=\"\\s+\", skiprows=22, header=None)\n"
     ]
    }
   ],
   "source": [
    "# load_boston was depricated therefor fetching it from the source here...\n",
    "\n",
    "\n",
    "data_url = \"http://lib.stat.cmu.edu/datasets/boston\"\n",
    "raw_df = pd.read_csv(data_url, sep=\"\\s+\", skiprows=22, header=None)\n",
    "data = np.hstack([raw_df.values[::2, :], raw_df.values[1::2, :2]])\n",
    "target = raw_df.values[1::2, 2]\n",
    "\n",
    "boston_data = np.hstack([data, target.reshape(-1, 1)])\n",
    "\n",
    "\n",
    "# need to make this data more understandable.. and reflect on the tutorial more\n",
    "column_names = [\n",
    "    'CRIM',    # per capita crime rate by town\n",
    "    'ZN',      # proportion of residential land zoned for lots over 25,000 sq.ft.\n",
    "    'INDUS',   # proportion of non-retail business acres per town\n",
    "    'CHAS',    # Charles River dummy variable (1 if tract bounds river; 0 otherwise)\n",
    "    'NOX',     # nitric oxides concentration (parts per 10 million)\n",
    "    'RM',      # average number of rooms per dwelling\n",
    "    'AGE',     # proportion of owner-occupied units built prior to 1940\n",
    "    'DIS',     # weighted distances to five Boston employment centers\n",
    "    'RAD',     # index of accessibility to radial highways\n",
    "    'TAX',     # full-value property-tax rate per $10,000\n",
    "    'PTRATIO', # pupil-teacher ratio by town\n",
    "    'B',       # 1000(Bk - 0.63)^2 where Bk is the proportion of blacks by town\n",
    "    'LSTAT',   # % lower status of the population\n",
    "    'MEDV'     # Median value of owner-occupied homes in $1000's\n",
    "]\n",
    "\n",
    "# Assign column names\n",
    "boston_df = pd.DataFrame(boston_data, columns=column_names)\n",
    "\n",
    "# rename 'MEDV' to 'Price' to match my tutorial\n",
    "boston_df.rename(columns={'MEDV': 'Price'}, inplace=True)\n",
    "\n",
    "\n",
    "\n"
   ]
  },
  {
   "cell_type": "code",
   "execution_count": 2,
   "metadata": {},
   "outputs": [
    {
     "data": {
      "text/plain": [
       "'C:\\\\Users\\\\Bryce\\\\Desktop\\\\MACHINE_LEARNING\\\\BookPractice\\\\ride_lasso'"
      ]
     },
     "execution_count": 2,
     "metadata": {},
     "output_type": "execute_result"
    }
   ],
   "source": [
    "# # ~ non sense to change the kernal to this directory\n",
    "# import os\n",
    "# os.chdir(r\"C:\\Users\\Bryce\\Desktop\\MACHINE_LEARNING\\BookPractice\\ride_lasso\")\n",
    "# os.getcwd()"
   ]
  }
 ],
 "metadata": {
  "kernelspec": {
   "display_name": "Python 3 (ipykernel)",
   "language": "python",
   "name": "python3"
  },
  "language_info": {
   "codemirror_mode": {
    "name": "ipython",
    "version": 3
   },
   "file_extension": ".py",
   "mimetype": "text/x-python",
   "name": "python",
   "nbconvert_exporter": "python",
   "pygments_lexer": "ipython3",
   "version": "3.12.1"
  }
 },
 "nbformat": 4,
 "nbformat_minor": 2
}
